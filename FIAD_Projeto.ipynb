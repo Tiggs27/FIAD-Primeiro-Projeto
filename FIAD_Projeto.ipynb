{
 "cells": [
  {
   "cell_type": "code",
   "execution_count": 1,
   "id": "37d9321b",
   "metadata": {},
   "outputs": [],
   "source": [
    "import numpy as np\n",
    "import matplotlib.pyplot as plt\n",
    "import math\n",
    "from matplotlib.patches import Ellipse\n",
    "from sklearn import metrics\n",
    "from scipy.linalg import sqrtm, inv\n",
    "import plotly.graph_objects as go\n",
    "import scipy.linalg\n",
    "import matplotlib.transforms as transforms\n",
    "from scipy.spatial.transform import Rotation as Rot\n",
    "%matplotlib inline"
   ]
  },
  {
   "cell_type": "code",
   "execution_count": 2,
   "id": "a93f9b86",
   "metadata": {},
   "outputs": [],
   "source": [
    "# Estimation parameters of EKF\n",
    "Q = np.diag([0.1, 0.1, np.deg2rad(1.0), 1.0])**2  # predict state covariance\n",
    "R = np.power(np.diag([1.0, 1.0]),2)  # Observation x,y position covariance\n",
    "\n",
    "#  Simulation parameter\n",
    "GPS_Noise = np.power(np.diag([0.5, 0.5]),2)\n",
    "Input_Noise = np.power(np.diag([1.0, np.deg2rad(30.0)]),2)\n",
    "\n",
    "dt = 0.1  # time tick [s]\n",
    "SIM_TIME = 50.0  # simulation time [s]\n",
    "\n",
    "show = False\n",
    "\n",
    "H = np.array([[1, 0, 0, 0],\n",
    "              [0, 1, 0, 0]], dtype=float)"
   ]
  },
  {
   "cell_type": "code",
   "execution_count": 3,
   "id": "d4594611",
   "metadata": {},
   "outputs": [],
   "source": [
    "def calc_input():\n",
    "    v = 1.0  # [m/s]\n",
    "    yawrate = 0.1  # [rad/s]\n",
    "    u = np.array([[v, yawrate]]).T\n",
    "    return u"
   ]
  },
  {
   "cell_type": "code",
   "execution_count": 4,
   "id": "a5060331",
   "metadata": {},
   "outputs": [],
   "source": [
    "def observation(xTrue, xd, u):\n",
    "    xTrue = motion_model(xTrue, u)\n",
    "\n",
    "    # add noise to gps x-y\n",
    "    z = observation_model(xTrue) + GPS_Noise @ np.random.randn(2, 1)\n",
    "\n",
    "    # add noise to input\n",
    "    ud = u + Input_Noise @ np.random.randn(2, 1)\n",
    "\n",
    "    xd = motion_model(xd, ud)\n",
    "\n",
    "    return xTrue, z, xd, ud"
   ]
  },
  {
   "cell_type": "code",
   "execution_count": 5,
   "id": "bcd882f8",
   "metadata": {},
   "outputs": [],
   "source": [
    "def motion_model(x, u):\n",
    "    phi = x[2,0]\n",
    "    \n",
    "    F = np.array([[1, 0, 0, 0,],\n",
    "                  [0, 1, 0, 0,],\n",
    "                  [0, 0, 1, 0,],\n",
    "                  [0, 0, 0, 0,]], dtype=float)\n",
    "    \n",
    "    B = np.array([[np.cos(phi) * dt, 0],\n",
    "                  [np.sin(phi) * dt, 0],\n",
    "                  [0, dt],\n",
    "                  [1, 0]], dtype=float)\n",
    "    \n",
    "    x1 = F @ x + B @ u\n",
    "\n",
    "    return x1"
   ]
  },
  {
   "cell_type": "code",
   "execution_count": 6,
   "id": "d42b6c74",
   "metadata": {},
   "outputs": [],
   "source": [
    "def observation_model(x):\n",
    "    H = np.array([\n",
    "        [1,0,0,0],\n",
    "        [0,1,0,0]\n",
    "    ])\n",
    "    \n",
    "    z = H @ x\n",
    "\n",
    "    return z"
   ]
  },
  {
   "cell_type": "code",
   "execution_count": 7,
   "id": "f247e8fe",
   "metadata": {},
   "outputs": [],
   "source": [
    "def jacobF(x, u):\n",
    "    v = u[0, 0]\n",
    "    phi = x[2, 0]\n",
    "    \n",
    "    jF = np.array([[1, 0, -v * np.sin(phi) * dt, np.cos(phi) * dt],\n",
    "                   [0, 1, v * np.cos(phi) * dt, np.sin(phi) * dt],\n",
    "                   [0, 0, 1, 0],\n",
    "                   [0, 0, 0, 1]], dtype=float)\n",
    "    \n",
    "    return jF"
   ]
  },
  {
   "cell_type": "code",
   "execution_count": 8,
   "id": "3d831de0",
   "metadata": {},
   "outputs": [],
   "source": [
    "def jacobH():\n",
    "    jH = np.array([[1, 0, 0, 0],\n",
    "                   [0, 1, 0, 0]], dtype=float)\n",
    "\n",
    "    return jH"
   ]
  },
  {
   "cell_type": "code",
   "execution_count": 9,
   "id": "866f4c59",
   "metadata": {},
   "outputs": [],
   "source": [
    "def plot_covariance_ellipse(xEst, PEst):\n",
    "    Pxy = PEst[0:2, 0:2]\n",
    "    eigval, eigvec = np.linalg.eig(Pxy)\n",
    "\n",
    "    if eigval[0] >= eigval[1]:\n",
    "        bigind = 0\n",
    "        smallind = 1\n",
    "    else:\n",
    "        bigind = 1\n",
    "        smallind = 0\n",
    "\n",
    "    t = np.arange(0, 2 * math.pi + 0.1, 0.1)\n",
    "    a = math.sqrt(eigval[bigind])\n",
    "    b = math.sqrt(eigval[smallind])\n",
    "    x = [a * math.cos(it) for it in t]\n",
    "    y = [b * math.sin(it) for it in t]\n",
    "    angle = math.atan2(eigvec[bigind, 1], eigvec[bigind, 0])\n",
    "    R = np.array([[math.cos(angle), math.sin(angle)],\n",
    "                  [-math.sin(angle), math.cos(angle)]])\n",
    "    fx = R.dot(np.array([[x, y]]))\n",
    "    px = np.array(fx[0, :] + xEst[0, 0]).flatten()\n",
    "    py = np.array(fx[1, :] + xEst[1, 0]).flatten()\n",
    "    plt.plot(px, py, \"--r\")"
   ]
  },
  {
   "cell_type": "code",
   "execution_count": 10,
   "id": "1988a002",
   "metadata": {},
   "outputs": [],
   "source": [
    "def ekf_estimation(xEst, PEst, z, u):\n",
    "    #  Predict\n",
    "    xPred = motion_model(xEst, u)\n",
    "    jF = jacobF(xEst, u)\n",
    "    PPred = jF @ PEst @ jF.T + Q\n",
    "\n",
    "    #  Update\n",
    "    jH = jacobH()\n",
    "    zPred = observation_model(xPred)\n",
    "    y = z - zPred\n",
    "    S = jH @ PPred @ jH.T + R\n",
    "    K = PPred @ jH.T @ np.linalg.inv(S)\n",
    "    xEst = xPred + K @ y\n",
    "    PEst = (np.eye(len(xEst)) - K @ jH) @ PPred\n",
    "    return xEst, PEst\n"
   ]
  },
  {
   "cell_type": "code",
   "execution_count": 29,
   "id": "f05d94f9",
   "metadata": {},
   "outputs": [
    {
     "data": {
      "image/png": "[encoded data removed]",
      "text/plain": [
       "<Figure size 432x288 with 1 Axes>"
      ]
     },
     "metadata": {
      "needs_background": "light"
     },
     "output_type": "display_data"
    }
   ],
   "source": [
    "    time = 0.0\n",
    "\n",
    "    # State Vector [x y yaw v]'\n",
    "    xEstEkf = np.zeros((4, 1))\n",
    "    xTrueEkf = np.zeros((4, 1))\n",
    "    PEstEkf = np.eye(4)\n",
    "\n",
    "    xDREkf = np.zeros((4, 1))  # Dead reckoning\n",
    "\n",
    "    # history\n",
    "    hxEstEkf = xEstEkf\n",
    "    hxTrueEkf = xTrueEkf\n",
    "    hxDREkf = xTrueEkf\n",
    "    hzEkf = np.zeros((2, 1))\n",
    "    fig = plt.figure()\n",
    "    while SIM_TIME >= time:\n",
    "        time += dt\n",
    "        u = calc_input()\n",
    "\n",
    "        xTrueEkf, zEkf, xDREkf, ud = observation(xTrueEkf, xDREkf, u)\n",
    "\n",
    "        xEstEkf, PEstEkf = ekf_estimation(xEstEkf, PEstEkf, zEkf, ud)\n",
    "\n",
    "        # store data history\n",
    "        hxEstEkf = np.hstack((hxEstEkf, xEstEkf))\n",
    "        hxDREkf = np.hstack((hxDREkf, xDREkf))\n",
    "        hxTrueEkf = np.hstack((hxTrueEkf, xTrueEkf))\n",
    "        hzEkf = np.hstack((hzEkf, zEkf))\n",
    "\n",
    "        if show:\n",
    "            plt.cla()\n",
    "            # for stopping simulation with the esc key.\n",
    "            plt.gcf().canvas.mpl_connect('key_release_event',\n",
    "                    lambda event: [exit(0) if event.key == 'escape' else None])\n",
    "            plt.plot(hz[0, :], hz[1, :], \".g\")\n",
    "            plt.plot(hxTrue[0, :].flatten(),\n",
    "                     hxTrue[1, :].flatten(), \"-b\")\n",
    "            plt.plot(hxDR[0, :].flatten(),\n",
    "                     hxDR[1, :].flatten(), \"-k\")\n",
    "            plt.plot(hxEst[0, :].flatten(),\n",
    "                     hxEst[1, :].flatten(), \"-r\")\n",
    "            plot_covariance_ellipse(xEst, PEst)\n",
    "            plt.axis(\"equal\")\n",
    "            plt.grid(True)\n",
    "            plt.pause(0.001)\n",
    "    plt.cla()\n",
    "    plt.plot(hzEkf[0, :], hzEkf[1, :], \".g\")\n",
    "    plt.plot(hxTrueEkf[0, :].flatten(),\n",
    "                    hxTrueEkf[1, :].flatten(), \"-b\")\n",
    "    plt.plot(hxDREkf[0, :].flatten(),\n",
    "                     hxDREkf[1, :].flatten(), \"-k\")\n",
    "    plt.plot(hxEstEkf[0, :].flatten(),\n",
    "                     hxEstEkf[1, :].flatten(), \"-r\")\n",
    "    plot_covariance_ellipse(xEstEkf, PEstEkf)\n",
    "    plt.axis(\"equal\")\n",
    "    plt.grid(True)\n",
    "    fig.canvas.draw()\n",
    "    plt.pause(0.001)\n"
   ]
  },
  {
   "cell_type": "code",
   "execution_count": 12,
   "id": "5f120b7b",
   "metadata": {},
   "outputs": [],
   "source": [
    "#  UKF Parameter\n",
    "ALPHA = 0.001\n",
    "BETA = 2\n",
    "KAPPA = 0"
   ]
  },
  {
   "cell_type": "code",
   "execution_count": 13,
   "id": "d211e371",
   "metadata": {},
   "outputs": [],
   "source": [
    "def generate_sigma_points(xEst, PEst, gamma):\n",
    "    x_0 = xEst\n",
    "\n",
    "    sigma_neg = xEst - gamma * sqrtm(PEst)\n",
    "    sigma_pos = xEst + gamma * sqrtm(PEst)\n",
    "\n",
    "    return np.concatenate((x_0, sigma_neg, sigma_pos), axis=1)"
   ]
  },
  {
   "cell_type": "code",
   "execution_count": 14,
   "id": "861feb59",
   "metadata": {},
   "outputs": [],
   "source": [
    "def predict_sigma_motion(sigma, u):\n",
    "    return motion_model(sigma, u)\n",
    "    \n",
    "    #return sigmas"
   ]
  },
  {
   "cell_type": "code",
   "execution_count": 15,
   "id": "d4636ab2",
   "metadata": {},
   "outputs": [],
   "source": [
    "def predict_sigma_observation(sigma):\n",
    "    return observation_model(sigma)\n",
    "    \n",
    "    #sigmas = observation_model(sigmas)\n",
    "\n",
    "    #return sigmas"
   ]
  },
  {
   "cell_type": "code",
   "execution_count": 16,
   "id": "5e29323c",
   "metadata": {},
   "outputs": [],
   "source": [
    "def calc_sigma_covariance(x, sigma, wc, Pi):\n",
    "     return wc * (sigma-x) @ (sigma-x).T + Pi"
   ]
  },
  {
   "cell_type": "code",
   "execution_count": 17,
   "id": "c3e3f84b",
   "metadata": {},
   "outputs": [],
   "source": [
    "def calc_pxz(sigma, x, z_sigma, zb, wc):\n",
    "    # Calculate the covariance Pxz (P^xy_t|t-1) using wc, sigma (x^(i)_t|t-1),\n",
    "    # x (xhat_t|t-1), z_sigma (y^(i)_t) and zb (yhat_t) and \n",
    "    \n",
    "    return wc * (sigma-x) @ (z_sigma-zb).T"
   ]
  },
  {
   "cell_type": "code",
   "execution_count": 18,
   "id": "c8f6e2b6",
   "metadata": {},
   "outputs": [],
   "source": [
    "def observation_ukf(xTrue, xd, u):\n",
    "\n",
    "    xTrue = motion_model(xTrue, u)\n",
    "\n",
    "    # add noise to gps x-y\n",
    "    z = observation_model(xTrue) + GPS_Noise @ np.random.randn(2, 1)\n",
    "\n",
    "    # add noise to input\n",
    "    ud = u + Input_Noise @ np.random.randn(2, 1)\n",
    "\n",
    "    xd = motion_model(xd, ud)\n",
    "\n",
    "    return xTrue, z, xd, ud"
   ]
  },
  {
   "cell_type": "code",
   "execution_count": 19,
   "id": "f648ce0d",
   "metadata": {},
   "outputs": [],
   "source": [
    "def ukf_estimation(xEst, PEst, z, u, wm, wc, gamma):\n",
    "    #  Predict (UKF - time update)\n",
    "    \n",
    "    # Calculate the sigma-points using xExt (xhat_k|k) and PEst (P_k|k)\n",
    "    # and gamma in def generate_sigma_points\n",
    "    sigma = generate_sigma_points(xEst, PEst, gamma)\n",
    "    \n",
    "    # Propagate the sigma-points (x^(i)_k+1|k = f(x^(i)_k|k , w^(i)_k)) \n",
    "    # using the sigma-points obtained in the previous calculus and u (ud = noisy u)\n",
    "    # in def predict_sigma_motion\n",
    "    sigma_propagated = predict_sigma_motion(sigma, u)\n",
    "\n",
    "    # Calculate xPred (xhat_k+1|k) using wm and the propagated sigma-points \n",
    "    xPred = wm @ sigma_propagated.T  \n",
    "    xPred = xPred.T\n",
    "    \n",
    "    # Calculate PPred (P_k|k-1) using xPred, the propagated sigma-points\n",
    "    # wc and Q in def calc_sigma_covariance\n",
    "    PPred = calc_sigma_covariance(xPred, sigma_propagated, wc, Q)\n",
    "\n",
    "    \n",
    "    #  Update (UKF - measurement update)\n",
    "    \n",
    "    # Calculate zPred (yhat_t) using xPred (xhat_k+1|k) in def observation_model\n",
    "    zPred = observation_model(xPred)\n",
    "    \n",
    "    # Calculate y = (y_t - yhat_t) using z (y_t) and zPred (yhat_t)\n",
    "    y = z - zPred\n",
    "     \n",
    "    # Calculate the sigma-points using xPred (xhat_k|k-1), PPred (P_k|k-1)\n",
    "    # and gamma in def generate_sigma_points\n",
    "    sigma = generate_sigma_points(xPred, PPred, gamma)\n",
    "    \n",
    "    # Propagate the sigma-points z_sigma (y^(i)_t = h(x^(i)_t|t-1 , e^(i)_t)) \n",
    "    # using the propagated sigma-points in def predict_sigma_observation\n",
    "    z_sigma = predict_sigma_observation(sigma)\n",
    "    \n",
    "    # Calculate zb (yhat_t) using wm and the propagated sigma-points z_sigma\n",
    "    zb = wm @ z_sigma.T\n",
    "    zb = zb.T\n",
    "    \n",
    "    # Calculate the sigma covariance, st (P^yy_t|t-1), using zb (yhat_t),\n",
    "    # z_sigma (y^(i)_t), wc and R in def calc_sigma_covariance\n",
    "    st = calc_sigma_covariance(zb, z_sigma, wc, R.T)\n",
    "    \n",
    "    # Calculate Pxz (P^xy_t|t-1) using sigma (x^(i)_t|t-1), xPred (xhat_t|t-1),\n",
    "    # z_sigma (y^(i)_t), zb (yhat_t) and wc in def calc_pxz\n",
    "    Pxz = calc_pxz(sigma, xPred, z_sigma, zb, wc)    \n",
    "    \n",
    "    # Calculate K_t using Pxz (P^xy_t|t-1) and st (P^yy_t|t-1)\n",
    "    K_t = Pxz @ inv(st.astype(float))\n",
    "    \n",
    "    # Update xEst (Xhat_t|t) using xPred (xhat_t|t-1), K_t and y (y_t - yhat_t)\n",
    "    xEst = xPred + K_t @ y\n",
    "    \n",
    "    # Update PEst (P_t|t) using PPred (P_t|t-1), K_t and st (P^yy_t|t-1)\n",
    "    PEst = PPred - K_t @ st @ K_t.T\n",
    "    \n",
    "    return xEst, PEst"
   ]
  },
  {
   "cell_type": "code",
   "execution_count": 20,
   "id": "ceb8e7f3",
   "metadata": {},
   "outputs": [],
   "source": [
    "def setup_ukf(nx):\n",
    "    # calculate lambda\n",
    "    lamb = ALPHA ** 2 * (nx + KAPPA) - nx\n",
    "    # calculate the weights\n",
    "    # w^(0)\n",
    "    wm = [lamb / (lamb + nx)] # wm corresponds to w of the UKF Algorithm\n",
    "    # wc^(0)\n",
    "    wc = [(lamb / (lamb + nx)) + (1 - ALPHA ** 2 + BETA)]\n",
    "    for i in range(2 * nx):\n",
    "        # w^(+-i)\n",
    "        wm.append(1.0 / (2 * (nx + lamb)))\n",
    "        # wc^(+-i)\n",
    "        wc.append(1.0 / (2 * (nx + lamb)))\n",
    "    \n",
    "    # define gamma\n",
    "    gamma = math.sqrt(nx + lamb)\n",
    "\n",
    "    wm = np.array([wm])\n",
    "    wc = np.array([wc])\n",
    "\n",
    "    return wm, wc, gamma"
   ]
  },
  {
   "cell_type": "code",
   "execution_count": 21,
   "id": "4bba93c3",
   "metadata": {},
   "outputs": [
    {
     "data": {
      "image/png": "[encoded data removed]",
      "text/plain": [
       "<Figure size 432x288 with 1 Axes>"
      ]
     },
     "metadata": {
      "needs_background": "light"
     },
     "output_type": "display_data"
    },
    {
     "name": "stdout",
     "output_type": "stream",
     "text": [
      "[[ 0.          0.        ]\n",
      " [-0.02302593 -0.06878606]\n",
      " [-0.03938922 -0.21826771]\n",
      " ...\n",
      " [-9.648661    7.42412175]\n",
      " [-9.61403682  7.26466772]\n",
      " [-9.56336143  7.14889529]]\n"
     ]
    }
   ],
   "source": [
    "nx = 4  # State Vector [x y yaw v]'\n",
    "xEst = np.zeros((nx, 1))\n",
    "xTrue = np.zeros((nx, 1))\n",
    "PEst = np.eye(nx)\n",
    "xDR = np.zeros((nx, 1))  # Dead reckoning\n",
    "\n",
    "wm, wc, gamma = setup_ukf(nx)\n",
    "\n",
    "# history\n",
    "hxEst = xEst\n",
    "hxTrue = xTrue\n",
    "hxDR = xTrue\n",
    "hz = np.zeros((2, 1))\n",
    "\n",
    "time = 0.0\n",
    "fig = plt.figure()\n",
    "\n",
    "while SIM_TIME >= time:\n",
    "    time += dt\n",
    "    u = calc_input()\n",
    "\n",
    "    xTrue, z, xDR, ud = observation(xTrue, xDR, u)\n",
    "\n",
    "    xEst, PEst = ukf_estimation(xEst, PEst, z, ud, wm, wc, gamma)\n",
    "\n",
    "        # store data history\n",
    "    hxEst = np.hstack((hxEst, xEst))\n",
    "    hxDR = np.hstack((hxDR, xDR))\n",
    "    hxTrue = np.hstack((hxTrue, xTrue))\n",
    "    hz = np.hstack((hz, z))\n",
    "\n",
    "plt.cla()\n",
    "            \n",
    "plt.plot(hz[0, :], hz[1, :], \".g\")\n",
    "plt.plot(np.array(hxTrue[0, :]).flatten(),\n",
    "                     np.array(hxTrue[1, :]).flatten(), \"-b\")\n",
    "plt.plot(np.array(hxDR[0, :]).flatten(),\n",
    "                     np.array(hxDR[1, :]).flatten(), \"-k\")\n",
    "plt.plot(np.array(hxEst[0, :]).flatten(),\n",
    "                     np.array(hxEst[1, :]).flatten(), \"-r\")\n",
    "plot_covariance_ellipse(xEst, PEst)\n",
    "plt.axis(\"equal\")\n",
    "plt.grid(True)\n",
    "fig.canvas.draw()\n",
    "plt.pause(0.001)\n",
    "print(hxEstEkf.T[:, :2])\n"
   ]
  },
  {
   "cell_type": "code",
   "execution_count": 22,
   "id": "0d6af9f4",
   "metadata": {},
   "outputs": [
    {
     "name": "stdout",
     "output_type": "stream",
     "text": [
      "[[ 0.          0.        ]\n",
      " [-0.02302593 -0.06878606]\n",
      " [-0.03938922 -0.21826771]\n",
      " ...\n",
      " [-9.648661    7.42412175]\n",
      " [-9.61403682  7.26466772]\n",
      " [-9.56336143  7.14889529]]\n"
     ]
    }
   ],
   "source": [
    "print(hxEstEkf.T[:, :2])"
   ]
  },
  {
   "cell_type": "code",
   "execution_count": 23,
   "id": "317e9018",
   "metadata": {},
   "outputs": [],
   "source": [
    "from sklearn.metrics import mean_squared_error\n",
    "from sklearn.metrics import mean_absolute_error\n",
    "import pandas as pd\n",
    "def rmse(y_true, y_pred):\n",
    "    return mean_squared_error(y_true, y_pred, squared=False)\n",
    "def mae(y_true, y_pred):\n",
    "    return mean_absolute_error(y_true, y_pred)"
   ]
  },
  {
   "cell_type": "code",
   "execution_count": 24,
   "id": "2330e9e1",
   "metadata": {},
   "outputs": [],
   "source": [
    "xTrue = hxTrueEkf[0, :]\n",
    "yTrue = hxTrueEkf[1, :]\n",
    "xEstEkf = hxEstEkf[0, :]\n",
    "yEstEkf = hxEstEkf[1, :]\n",
    "difx = xTrue - xEstEkf\n",
    "dify = yTrue - yEstEkf\n",
    "error_Ekf = np.sqrt(difx ** 2 + dify ** 2)\n",
    "sqrt_error_Ekf = np.sqrt(error_Ekf)\n",
    "mean_Ekf = np.mean(error_Ekf)"
   ]
  },
  {
   "cell_type": "code",
   "execution_count": 25,
   "id": "2b784863",
   "metadata": {},
   "outputs": [],
   "source": [
    "xEst = hxEst[0, :]\n",
    "yEst = hxEst[1, :]\n",
    "difx = xTrue - xEst\n",
    "dify = yTrue - yEst\n",
    "error_Ukf = np.sqrt(difx ** 2 + dify ** 2)\n",
    "sqrt_error_Ukf = np.sqrt(error_Ukf)\n",
    "mean_Ukf = np.mean(error_Ukf)"
   ]
  },
  {
   "cell_type": "code",
   "execution_count": 26,
   "id": "d8384e21",
   "metadata": {},
   "outputs": [],
   "source": [
    "xDREkf = hxDREkf[0, :]\n",
    "yDREkf = hxDREkf[1, :]\n",
    "xDRUkf = hxDR[0, :]\n",
    "yDRUkf = hxDR[1, :]\n",
    "difx = xTrue - xDREkf\n",
    "dify = yTrue - yDREkf\n",
    "error_DREkf = np.sqrt(difx ** 2 + dify ** 2)\n",
    "sqrt_error_DREkf = np.sqrt(error_DREkf)\n",
    "mean_DREkf = np.mean(error_DREkf)"
   ]
  },
  {
   "cell_type": "code",
   "execution_count": 27,
   "id": "a47d2662",
   "metadata": {},
   "outputs": [],
   "source": [
    "difx = xTrue - xDRUkf\n",
    "dify = yTrue - yDRUkf\n",
    "error_DRUkf = np.sqrt(difx ** 2 + dify ** 2)\n",
    "sqrt_error_DRUkf = np.sqrt(error_DRUkf)\n",
    "mean_DRUkf = np.mean(error_DRUkf)"
   ]
  },
  {
   "cell_type": "code",
   "execution_count": 30,
   "id": "8eec1a48",
   "metadata": {},
   "outputs": [
    {
     "data": {
      "text/html": [
       "<div>\n",
       "<style scoped>\n",
       "    .dataframe tbody tr th:only-of-type {\n",
       "        vertical-align: middle;\n",
       "    }\n",
       "\n",
       "    .dataframe tbody tr th {\n",
       "        vertical-align: top;\n",
       "    }\n",
       "\n",
       "    .dataframe thead th {\n",
       "        text-align: right;\n",
       "    }\n",
       "</style>\n",
       "<table border=\"1\" class=\"dataframe\">\n",
       "  <thead>\n",
       "    <tr style=\"text-align: right;\">\n",
       "      <th></th>\n",
       "      <th>Mean Error</th>\n",
       "      <th>Root Mean Square Deviation</th>\n",
       "      <th>Mean Absolute Error</th>\n",
       "    </tr>\n",
       "  </thead>\n",
       "  <tbody>\n",
       "    <tr>\n",
       "      <th>DREkf</th>\n",
       "      <td>2.877789</td>\n",
       "      <td>1.204874</td>\n",
       "      <td>1.174229</td>\n",
       "    </tr>\n",
       "    <tr>\n",
       "      <th>DRUkf</th>\n",
       "      <td>3.338325</td>\n",
       "      <td>1.637394</td>\n",
       "      <td>2.167778</td>\n",
       "    </tr>\n",
       "    <tr>\n",
       "      <th>EKF</th>\n",
       "      <td>0.150321</td>\n",
       "      <td>0.343277</td>\n",
       "      <td>0.092903</td>\n",
       "    </tr>\n",
       "    <tr>\n",
       "      <th>UKF</th>\n",
       "      <td>0.270165</td>\n",
       "      <td>0.458666</td>\n",
       "      <td>0.173330</td>\n",
       "    </tr>\n",
       "  </tbody>\n",
       "</table>\n",
       "</div>"
      ],
      "text/plain": [
       "       Mean Error  Root Mean Square Deviation  Mean Absolute Error\n",
       "DREkf    2.877789                    1.204874             1.174229\n",
       "DRUkf    3.338325                    1.637394             2.167778\n",
       "EKF      0.150321                    0.343277             0.092903\n",
       "UKF      0.270165                    0.458666             0.173330"
      ]
     },
     "execution_count": 30,
     "metadata": {},
     "output_type": "execute_result"
    }
   ],
   "source": [
    "sqerrorekf = np.sqrt(rmse(hxEstEkf.T[:, :2], hxTrueEkf.T[:, :2]))\n",
    "sqerrorukf = np.sqrt(rmse(hxEst.T[:, :2], hxTrue.T[:, :2]))\n",
    "sqerrorDREkf = np.sqrt(rmse(hxTrueEkf.T[:, :2], hxDREkf.T[:, :2]))\n",
    "sqerrorDRUkf = np.sqrt(rmse(hxTrue.T[:, :2], hxDR.T[:, :2]))\n",
    "\n",
    "maeekf = (mae(hxEstEkf.T[:, :2], hxTrueEkf.T[:, :2]))\n",
    "maeukf = (mae(hxEst.T[:, :2], hxTrue.T[:, :2]))\n",
    "maeDrEkf = (mae(hxTrueEkf.T[:, :2],hxDREkf.T[:,:2]))\n",
    "maeDrUkf = (mae(hxTrue.T[:, :2],hxDR.T[:,:2]))\n",
    "conclusoes = np.asarray([mean_DREkf,sqerrorDREkf,maeDrEkf,mean_DRUkf,sqerrorDRUkf,maeDrUkf,mean_Ekf,sqerrorekf,maeekf,mean_Ukf,sqerrorukf,maeukf])\n",
    "#print(conclusoes)\n",
    "teste = np.reshape(conclusoes, (4,3))\n",
    "colunas = ['Mean Error', 'Root Mean Square Deviation' , 'Mean Absolute Error']\n",
    "indexe = ['DREkf','DRUkf','EKF', 'UKF']\n",
    "df_conclusoes = pd.DataFrame(teste, index = indexe , columns = colunas)\n",
    "\n",
    "df_conclusoes"
   ]
  },
  {
   "cell_type": "code",
   "execution_count": 41,
   "id": "cef8827b",
   "metadata": {},
   "outputs": [
    {
     "data": {
      "image/png": "[encoded data removed]",
      "text/plain": [
       "<Figure size 432x288 with 1 Axes>"
      ]
     },
     "metadata": {
      "needs_background": "light"
     },
     "output_type": "display_data"
    }
   ],
   "source": [
    "import seaborn as sns\n",
    "\n",
    "ax = sns.barplot(x=indexe, y=\"Mean Error\", data=df_conclusoes)"
   ]
  },
  {
   "cell_type": "code",
   "execution_count": 39,
   "id": "e23416f8",
   "metadata": {},
   "outputs": [
    {
     "data": {
      "image/png": "[encoded data removed]",
      "text/plain": [
       "<Figure size 432x288 with 1 Axes>"
      ]
     },
     "metadata": {
      "needs_background": "light"
     },
     "output_type": "display_data"
    }
   ],
   "source": [
    "bx = sns.barplot(x=indexe, y=\"Root Mean Square Deviation\", data=df_conclusoes)"
   ]
  },
  {
   "cell_type": "code",
   "execution_count": 40,
   "id": "35a79e96",
   "metadata": {},
   "outputs": [
    {
     "data": {
      "image/png": "[encoded data removed]",
      "text/plain": [
       "<Figure size 432x288 with 1 Axes>"
      ]
     },
     "metadata": {
      "needs_background": "light"
     },
     "output_type": "display_data"
    }
   ],
   "source": [
    "cx = sns.barplot(x=indexe, y=\"Mean Absolute Error\", data=df_conclusoes)"
   ]
  },
  {
   "attachments": {
    "image.png": {
     "image/png": "[encoded data removed]"
    }
   },
   "cell_type": "markdown",
   "id": "b1289ed0",
   "metadata": {},
   "source": [
    "<h1>Análise dos algoritmos</h1> \n",
    "\n",
    "<h2>Primeiro que tudo é necessário entender os algoritmos utilizados EKF e UKF</h2>\n",
    "\n",
    "<h2> Extended Kalman Filter (EKF) </h2>\n",
    "\n",
    "Este algoritmo aproxima o modelo com um modelo linear usando séries de Taylor antes de aplicar o KF normal.<br>\n",
    "Os erros inerentes ao EKF vêm da linearização realizada para calcular a média e covariância de uma variável aleatória, que sofre uma transformação não-linear.<br>\n",
    "O UKF previne estes erros.<br>\n",
    "    ![image.png](attachment:image.png)\n",
    "Temos um ponto para aproximar a Gaussiana.\n",
    "    \n",
    "<h2> Unscented Kalman Filter (UKF) </h2>\n",
    "\n",
    "<br>O Unscented Kalman Filter é também um algoritmo para modelos não-lineares, contudo, são geralmente mais precisos, pois são gerados sigma-points e os seus respetivos pesos, que depois de sofrerem as transformações que o modelo real sofreu, acabam por ser mais próximos da realidade.</br>\n",
    "\n",
    "-Vantagens:<br>\n",
    "\t-O erro esperado é menor que no EKF<br>\n",
    "\t-O novo filtro pode ser aplicado a funções não diferenciais<br>\n",
    "\t-Evita a derivação de matrizes Jacobianas<br>\n",
    "     \n",
    "Temos vários pontos (sigma points) para aproximar a gaussiana.<br>\n",
    "Como damos pesos a estes pontos para dar preferência e melhorar a aproximação, são na verdade weighted sigma points.<br>\n",
    "\n",
    "<b>Nota</b>: Código desenvolvido com base nestes <a href=\"https://github.com/AtsushiSakai/PythonRobotics/tree/master/Localization\">notebooks</a>\n",
    "<h1> Conclusões </h1>\n",
    "\n",
    "- Foram aplicados três metodos de ánalise de erro o Mean Error o Root Mean Square Deviation e o Mean Absolute Error\n",
    "- Analisando os gráficos de maneira mais cuidadosa conseguimos perceber que de forma mais evidente o dead reckoning em todos os   calculos de erro deram resultados elevadissimos, com valores sempre a superar 1\n",
    "- No que toca aos dados dos algoritmos usados nomeadamente o EKF e o UKF ao contrário que é expectavel o Extended Kalman Filter   tem um erro inferior comparativamente ao Unscented Kalman Filter que por norma e segundo os conceitos de cada um não se devia   verificar, no entanto após alguma discussão com alguns colegas verifiquei que efetivamente o resultado do erro do Ukf é   superior apesar de não ser por muito.\n",
    "- Se efetivamente houvesse o filtro de particulas segundo a logica seriam obtidos melhores resultados.\n"
   ]
  }
 ],
 "metadata": {
  "kernelspec": {
   "display_name": "Python 3 (ipykernel)",
   "language": "python",
   "name": "python3"
  },
  "language_info": {
   "codemirror_mode": {
    "name": "ipython",
    "version": 3
   },
   "file_extension": ".py",
   "mimetype": "text/x-python",
   "name": "python",
   "nbconvert_exporter": "python",
   "pygments_lexer": "ipython3",
   "version": "3.8.8"
  }
 },
 "nbformat": 4,
 "nbformat_minor": 5
}
